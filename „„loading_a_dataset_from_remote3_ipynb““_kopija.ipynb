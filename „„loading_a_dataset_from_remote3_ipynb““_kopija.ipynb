{
  "nbformat": 4,
  "nbformat_minor": 0,
  "metadata": {
    "colab": {
      "name": "„„loading a dataset from remote3.ipynb““ kopija",
      "provenance": [],
      "collapsed_sections": [],
      "authorship_tag": "ABX9TyMpxSiiVN2WdH9Tjs4ggLBr",
      "include_colab_link": true
    },
    "kernelspec": {
      "name": "python3",
      "display_name": "Python 3"
    },
    "language_info": {
      "name": "python"
    }
  },
  "cells": [
    {
      "cell_type": "markdown",
      "metadata": {
        "id": "view-in-github",
        "colab_type": "text"
      },
      "source": [
        "<a href=\"https://colab.research.google.com/github/VilmaTar/pre-corse/blob/pre-course/%E2%80%9E%E2%80%9Eloading_a_dataset_from_remote3_ipynb%E2%80%9C%E2%80%9C_kopija.ipynb\" target=\"_parent\"><img src=\"https://colab.research.google.com/assets/colab-badge.svg\" alt=\"Open In Colab\"/></a>"
      ]
    },
    {
      "cell_type": "markdown",
      "metadata": {
        "id": "WLmxJ1gKIuEt"
      },
      "source": [
        "# Nauja skiltis"
      ]
    },
    {
      "cell_type": "markdown",
      "metadata": {
        "id": "iGBnGBWcJSvo"
      },
      "source": [
        ""
      ]
    },
    {
      "cell_type": "code",
      "metadata": {
        "colab": {
          "base_uri": "https://localhost:8080/"
        },
        "id": "nJbX5yrNpSBu",
        "outputId": "7d3bc40d-9949-4272-b62b-47e428f722f3"
      },
      "source": [
        "# List contents in the current working directory\n",
        "! ls\n",
        "\n",
        "# Navigate into the `data` sub-directory\n",
        "%cd nbaallelo\n",
        "\n",
        "# List contents of `data`\n",
        "! ls\n",
        "\n",
        "# Print new working directory\n",
        "! pwd"
      ],
      "execution_count": null,
      "outputs": [
        {
          "output_type": "stream",
          "text": [
            "nbaallelo.csv  sample_data\n",
            "[Errno 2] No such file or directory: 'nbaallelo'\n",
            "/content\n",
            "nbaallelo.csv  sample_data\n",
            "/content\n"
          ],
          "name": "stdout"
        }
      ]
    }
  ]
}