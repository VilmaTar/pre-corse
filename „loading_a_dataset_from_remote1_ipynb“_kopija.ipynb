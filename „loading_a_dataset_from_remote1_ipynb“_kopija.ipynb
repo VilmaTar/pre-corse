{
  "nbformat": 4,
  "nbformat_minor": 0,
  "metadata": {
    "colab": {
      "name": "„loading a dataset from remote1.ipynb“ kopija",
      "provenance": [],
      "authorship_tag": "ABX9TyPnuYRRRZLXaOpi6JntShEs",
      "include_colab_link": true
    },
    "kernelspec": {
      "name": "python3",
      "display_name": "Python 3"
    },
    "language_info": {
      "name": "python"
    }
  },
  "cells": [
    {
      "cell_type": "markdown",
      "metadata": {
        "id": "view-in-github",
        "colab_type": "text"
      },
      "source": [
        "<a href=\"https://colab.research.google.com/github/VilmaTar/pre-corse/blob/pre-course/%E2%80%9Eloading_a_dataset_from_remote1_ipynb%E2%80%9C_kopija.ipynb\" target=\"_parent\"><img src=\"https://colab.research.google.com/assets/colab-badge.svg\" alt=\"Open In Colab\"/></a>"
      ]
    },
    {
      "cell_type": "code",
      "metadata": {
        "id": "pGsHT2OgI9Jy"
      },
      "source": [
        ""
      ],
      "execution_count": null,
      "outputs": []
    },
    {
      "cell_type": "markdown",
      "metadata": {
        "id": "iGBnGBWcJSvo"
      },
      "source": [
        ""
      ]
    }
  ]
}