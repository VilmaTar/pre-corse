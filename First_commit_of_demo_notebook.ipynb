{
  "nbformat": 4,
  "nbformat_minor": 0,
  "metadata": {
    "colab": {
      "name": "First commit of demo notebook.ipynb",
      "provenance": [],
      "mount_file_id": "11vaMeeJx_hvaZxzvmzMs82qRVlxJK9YR",
      "authorship_tag": "ABX9TyNf21/qMWF7XC/0X+Jx55pP",
      "include_colab_link": true
    },
    "kernelspec": {
      "name": "python3",
      "display_name": "Python 3"
    },
    "language_info": {
      "name": "python"
    }
  },
  "cells": [
    {
      "cell_type": "markdown",
      "metadata": {
        "id": "view-in-github",
        "colab_type": "text"
      },
      "source": [
        "<a href=\"https://colab.research.google.com/github/VilmaTar/pre-corse/blob/pre-course/First_commit_of_demo_notebook.ipynb\" target=\"_parent\"><img src=\"https://colab.research.google.com/assets/colab-badge.svg\" alt=\"Open In Colab\"/></a>"
      ]
    },
    {
      "cell_type": "code",
      "metadata": {
        "id": "kbAG-_9NsG-f"
      },
      "source": [
        ""
      ],
      "execution_count": null,
      "outputs": []
    },
    {
      "cell_type": "markdown",
      "metadata": {
        "id": "LS9O-RenqqL8"
      },
      "source": [
        "Concepts\n",
        "\n",
        "\n",
        "Which concepts are essential.\n",
        "•\tChunking.\n",
        "•\tLong-term vs. short-term memory.\n",
        "•\tSustaining focus.\n",
        "•\tProcrastination & anti-procrastination strategies.\n",
        "•\tPomodoro technique.\n",
        "•\tBurnout & anti-burnout strategies.\n",
        "\n",
        "\n",
        "Which concepts are important.\n",
        "•\tFlashcards (Anki, etc.).\n",
        "•\tMind mapping.\n",
        "•\tGetting things done (GTD) methodology.\n",
        "•\tFeynman technique.\n",
        "\n"
      ]
    },
    {
      "cell_type": "markdown",
      "metadata": {
        "id": "LDauTrgy8r2M"
      },
      "source": [
        "# Nauja skiltis"
      ]
    }
  ]
}