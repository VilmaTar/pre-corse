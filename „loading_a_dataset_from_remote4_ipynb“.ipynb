{
  "nbformat": 4,
  "nbformat_minor": 0,
  "metadata": {
    "colab": {
      "name": "„loading a dataset from remote4.ipynb“",
      "provenance": [],
      "collapsed_sections": [],
      "authorship_tag": "ABX9TyPHBo31SMWpXo+UwEOV1lHc",
      "include_colab_link": true
    },
    "kernelspec": {
      "name": "python3",
      "display_name": "Python 3"
    },
    "language_info": {
      "name": "python"
    }
  },
  "cells": [
    {
      "cell_type": "markdown",
      "metadata": {
        "id": "view-in-github",
        "colab_type": "text"
      },
      "source": [
        "<a href=\"https://colab.research.google.com/github/VilmaTar/pre-corse/blob/pre-course/%E2%80%9Eloading_a_dataset_from_remote4_ipynb%E2%80%9C.ipynb\" target=\"_parent\"><img src=\"https://colab.research.google.com/assets/colab-badge.svg\" alt=\"Open In Colab\"/></a>"
      ]
    },
    {
      "cell_type": "markdown",
      "metadata": {
        "id": "WLmxJ1gKIuEt"
      },
      "source": [
        "# Nauja skiltis"
      ]
    },
    {
      "cell_type": "markdown",
      "metadata": {
        "id": "iGBnGBWcJSvo"
      },
      "source": [
        ""
      ]
    },
    {
      "cell_type": "code",
      "metadata": {
        "colab": {
          "base_uri": "https://localhost:8080/"
        },
        "id": "nJbX5yrNpSBu",
        "outputId": "7d3bc40d-9949-4272-b62b-47e428f722f3"
      },
      "source": [
        "# List contents in the current working directory\n",
        "! ls\n",
        "\n",
        "# Navigate into the `data` sub-directory\n",
        "%cd nbaallelo\n",
        "\n",
        "# List contents of `data`\n",
        "! ls\n",
        "\n",
        "# Print new working directory\n",
        "! pwd"
      ],
      "execution_count": null,
      "outputs": [
        {
          "output_type": "stream",
          "text": [
            "nbaallelo.csv  sample_data\n",
            "[Errno 2] No such file or directory: 'nbaallelo'\n",
            "/content\n",
            "nbaallelo.csv  sample_data\n",
            "/content\n"
          ],
          "name": "stdout"
        }
      ]
    },
    {
      "cell_type": "code",
      "metadata": {
        "colab": {
          "base_uri": "https://localhost:8080/"
        },
        "id": "7A4aznlgGkR1",
        "outputId": "5c593a66-af9c-4638-af6a-82bb7661ce17"
      },
      "source": [
        "!wget https://raw.githubusercontent.com/fivethirtyeight/data/master/nba-elo/nbaallelo.csv - 0 nbaaellelo.csv"
      ],
      "execution_count": null,
      "outputs": [
        {
          "output_type": "stream",
          "text": [
            "--2021-07-30 20:28:14--  https://raw.githubusercontent.com/fivethirtyeight/data/master/nba-elo/nbaallelo.csv\n",
            "Resolving raw.githubusercontent.com (raw.githubusercontent.com)... 185.199.110.133, 185.199.111.133, 185.199.108.133, ...\n",
            "Connecting to raw.githubusercontent.com (raw.githubusercontent.com)|185.199.110.133|:443... connected.\n",
            "HTTP request sent, awaiting response... 200 OK\n",
            "Length: 18173265 (17M) [text/plain]\n",
            "Saving to: ‘nbaallelo.csv.1’\n",
            "\n",
            "nbaallelo.csv.1     100%[===================>]  17.33M  47.4MB/s    in 0.4s    \n",
            "\n",
            "2021-07-30 20:28:15 (47.4 MB/s) - ‘nbaallelo.csv.1’ saved [18173265/18173265]\n",
            "\n",
            "--2021-07-30 20:28:15--  http://-/\n",
            "Resolving - (-)... failed: Name or service not known.\n",
            "wget: unable to resolve host address ‘-’\n",
            "--2021-07-30 20:28:15--  http://0/\n",
            "Resolving 0 (0)... 0.0.0.0\n",
            "Connecting to 0 (0)|0.0.0.0|:80... failed: Connection refused.\n",
            "--2021-07-30 20:28:15--  http://nbaaellelo.csv/\n",
            "Resolving nbaaellelo.csv (nbaaellelo.csv)... failed: Name or service not known.\n",
            "wget: unable to resolve host address ‘nbaaellelo.csv’\n",
            "FINISHED --2021-07-30 20:28:15--\n",
            "Total wall clock time: 0.6s\n",
            "Downloaded: 1 files, 17M in 0.4s (47.4 MB/s)\n"
          ],
          "name": "stdout"
        }
      ]
    },
    {
      "cell_type": "code",
      "metadata": {
        "id": "n3CRFU0fGu5H"
      },
      "source": [
        ""
      ],
      "execution_count": null,
      "outputs": []
    }
  ]
}